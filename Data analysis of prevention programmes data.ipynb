{
 "cells": [
  {
   "cell_type": "markdown",
   "metadata": {},
   "source": [
    "Complete Data set can be downloaded from [here](http://apps.who.int/gho/data/node.main.VIOLENCEPREVENTIONPROGRAMMES?lang=en).\n",
    "<br>\n",
    "This data set is about extent of implementation of four programmes dring 2012-2014 in 132 countries."
   ]
  },
  {
   "cell_type": "code",
   "execution_count": 7,
   "metadata": {},
   "outputs": [],
   "source": [
    "import pandas as pd\n",
    "import matplotlib.pyplot as plt\n",
    "import numpy as np\n",
    "import seaborn as sns"
   ]
  },
  {
   "cell_type": "code",
   "execution_count": 8,
   "metadata": {},
   "outputs": [],
   "source": [
    "df = pd.read_csv(\"data sets/VIOLENCE_EXTENTIMP_CHILDHOMEVISIT,VIOLENCE_EXTENTIMP_YOUTHLIFESKILLS,VIOLENCE_EXTENTIMP_PARTNERVIOLPREVENTION,VIOLENCE_EXTENTIMP_ELDERCAREGIVER.csv\", header=[0,1], index_col=0)"
   ]
  },
  {
   "cell_type": "code",
   "execution_count": 9,
   "metadata": {},
   "outputs": [
    {
     "data": {
      "text/html": [
       "<div>\n",
       "<style scoped>\n",
       "    .dataframe tbody tr th:only-of-type {\n",
       "        vertical-align: middle;\n",
       "    }\n",
       "\n",
       "    .dataframe tbody tr th {\n",
       "        vertical-align: top;\n",
       "    }\n",
       "\n",
       "    .dataframe thead tr th {\n",
       "        text-align: left;\n",
       "    }\n",
       "</style>\n",
       "<table border=\"1\" class=\"dataframe\">\n",
       "  <thead>\n",
       "    <tr>\n",
       "      <th></th>\n",
       "      <th>Child maltreatment: Extent of implementation of home-visiting programmes</th>\n",
       "      <th>Youth violence: Extent of implementation of life-skills and social development programmes</th>\n",
       "      <th>Intimate partner violence: Extent of implementation  of dating violence prevention programmes</th>\n",
       "      <th>Elder abuse: Extent of implementation  of caregiver-support programmes</th>\n",
       "    </tr>\n",
       "    <tr>\n",
       "      <th>Country</th>\n",
       "      <th>2012-2014</th>\n",
       "      <th>2012-2014</th>\n",
       "      <th>2012-2014</th>\n",
       "      <th>2012-2014</th>\n",
       "    </tr>\n",
       "  </thead>\n",
       "  <tbody>\n",
       "    <tr>\n",
       "      <th>Afghanistan</th>\n",
       "      <td>None</td>\n",
       "      <td>Limited</td>\n",
       "      <td>None</td>\n",
       "      <td>Don't know</td>\n",
       "    </tr>\n",
       "    <tr>\n",
       "      <th>Albania</th>\n",
       "      <td>Limited</td>\n",
       "      <td>Limited</td>\n",
       "      <td>Limited</td>\n",
       "      <td>Larger scale</td>\n",
       "    </tr>\n",
       "    <tr>\n",
       "      <th>Algeria</th>\n",
       "      <td>Limited</td>\n",
       "      <td>Larger scale</td>\n",
       "      <td>Limited</td>\n",
       "      <td>Larger scale</td>\n",
       "    </tr>\n",
       "    <tr>\n",
       "      <th>Armenia</th>\n",
       "      <td>Limited</td>\n",
       "      <td>Limited</td>\n",
       "      <td>None</td>\n",
       "      <td>Larger scale</td>\n",
       "    </tr>\n",
       "    <tr>\n",
       "      <th>Australia</th>\n",
       "      <td>Larger scale</td>\n",
       "      <td>None</td>\n",
       "      <td>Larger scale</td>\n",
       "      <td>Larger scale</td>\n",
       "    </tr>\n",
       "  </tbody>\n",
       "</table>\n",
       "</div>"
      ],
      "text/plain": [
       "            Child maltreatment: Extent of implementation of home-visiting programmes  \\\n",
       "Country                                                                    2012-2014   \n",
       "Afghanistan                                               None                         \n",
       "Albania                                                Limited                         \n",
       "Algeria                                                Limited                         \n",
       "Armenia                                                Limited                         \n",
       "Australia                                         Larger scale                         \n",
       "\n",
       "            Youth violence: Extent of implementation of life-skills and social development programmes  \\\n",
       "Country                                                                                     2012-2014   \n",
       "Afghanistan                                            Limited                                          \n",
       "Albania                                                Limited                                          \n",
       "Algeria                                           Larger scale                                          \n",
       "Armenia                                                Limited                                          \n",
       "Australia                                                 None                                          \n",
       "\n",
       "            Intimate partner violence: Extent of implementation  of dating violence prevention programmes  \\\n",
       "Country                                                                                         2012-2014   \n",
       "Afghanistan                                               None                                              \n",
       "Albania                                                Limited                                              \n",
       "Algeria                                                Limited                                              \n",
       "Armenia                                                   None                                              \n",
       "Australia                                         Larger scale                                              \n",
       "\n",
       "            Elder abuse: Extent of implementation  of caregiver-support programmes  \n",
       "Country                                                                  2012-2014  \n",
       "Afghanistan                                         Don't know                      \n",
       "Albania                                           Larger scale                      \n",
       "Algeria                                           Larger scale                      \n",
       "Armenia                                           Larger scale                      \n",
       "Australia                                         Larger scale                      "
      ]
     },
     "execution_count": 9,
     "metadata": {},
     "output_type": "execute_result"
    }
   ],
   "source": [
    "df.head()"
   ]
  },
  {
   "cell_type": "code",
   "execution_count": 10,
   "metadata": {},
   "outputs": [
    {
     "data": {
      "text/plain": [
       "Index(['Afghanistan', 'Albania', 'Algeria', 'Armenia', 'Australia', 'Austria',\n",
       "       'Azerbaijan', 'Bahrain', 'Bangladesh', 'Belarus',\n",
       "       ...\n",
       "       'United Arab Emirates',\n",
       "       'United Kingdom of Great Britain and Northern Ireland',\n",
       "       'United Republic of Tanzania', 'United States of America', 'Uzbekistan',\n",
       "       'Vanuatu', 'Viet Nam', 'Yemen', 'Zambia', 'Zimbabwe'],\n",
       "      dtype='object', length=132)"
      ]
     },
     "execution_count": 10,
     "metadata": {},
     "output_type": "execute_result"
    }
   ],
   "source": [
    "df.index"
   ]
  },
  {
   "cell_type": "markdown",
   "metadata": {},
   "source": [
    "#### accessing column"
   ]
  },
  {
   "cell_type": "code",
   "execution_count": 16,
   "metadata": {},
   "outputs": [
    {
     "data": {
      "text/html": [
       "<div>\n",
       "<style scoped>\n",
       "    .dataframe tbody tr th:only-of-type {\n",
       "        vertical-align: middle;\n",
       "    }\n",
       "\n",
       "    .dataframe tbody tr th {\n",
       "        vertical-align: top;\n",
       "    }\n",
       "\n",
       "    .dataframe thead tr th {\n",
       "        text-align: left;\n",
       "    }\n",
       "</style>\n",
       "<table border=\"1\" class=\"dataframe\">\n",
       "  <thead>\n",
       "    <tr>\n",
       "      <th></th>\n",
       "      <th>Child maltreatment: Extent of implementation of home-visiting programmes</th>\n",
       "    </tr>\n",
       "    <tr>\n",
       "      <th>Country</th>\n",
       "      <th>2012-2014</th>\n",
       "    </tr>\n",
       "  </thead>\n",
       "  <tbody>\n",
       "    <tr>\n",
       "      <th>Afghanistan</th>\n",
       "      <td>None</td>\n",
       "    </tr>\n",
       "    <tr>\n",
       "      <th>Albania</th>\n",
       "      <td>Limited</td>\n",
       "    </tr>\n",
       "    <tr>\n",
       "      <th>Algeria</th>\n",
       "      <td>Limited</td>\n",
       "    </tr>\n",
       "    <tr>\n",
       "      <th>Armenia</th>\n",
       "      <td>Limited</td>\n",
       "    </tr>\n",
       "    <tr>\n",
       "      <th>Australia</th>\n",
       "      <td>Larger scale</td>\n",
       "    </tr>\n",
       "  </tbody>\n",
       "</table>\n",
       "</div>"
      ],
      "text/plain": [
       "            Child maltreatment: Extent of implementation of home-visiting programmes\n",
       "Country                                                                    2012-2014\n",
       "Afghanistan                                               None                      \n",
       "Albania                                                Limited                      \n",
       "Algeria                                                Limited                      \n",
       "Armenia                                                Limited                      \n",
       "Australia                                         Larger scale                      "
      ]
     },
     "execution_count": 16,
     "metadata": {},
     "output_type": "execute_result"
    }
   ],
   "source": [
    "col_data = df.xs(('Child maltreatment: Extent of implementation of home-visiting programmes', ' 2012-2014'), level=[0,1], axis=1)\n",
    "col_data.head()"
   ]
  },
  {
   "cell_type": "code",
   "execution_count": 11,
   "metadata": {},
   "outputs": [
    {
     "data": {
      "text/html": [
       "<div>\n",
       "<style scoped>\n",
       "    .dataframe tbody tr th:only-of-type {\n",
       "        vertical-align: middle;\n",
       "    }\n",
       "\n",
       "    .dataframe tbody tr th {\n",
       "        vertical-align: top;\n",
       "    }\n",
       "\n",
       "    .dataframe thead tr th {\n",
       "        text-align: left;\n",
       "    }\n",
       "</style>\n",
       "<table border=\"1\" class=\"dataframe\">\n",
       "  <thead>\n",
       "    <tr>\n",
       "      <th></th>\n",
       "      <th>Child maltreatment: Extent of implementation of home-visiting programmes</th>\n",
       "      <th>Youth violence: Extent of implementation of life-skills and social development programmes</th>\n",
       "      <th>Intimate partner violence: Extent of implementation  of dating violence prevention programmes</th>\n",
       "      <th>Elder abuse: Extent of implementation  of caregiver-support programmes</th>\n",
       "    </tr>\n",
       "    <tr>\n",
       "      <th>Country</th>\n",
       "      <th>2012-2014</th>\n",
       "      <th>2012-2014</th>\n",
       "      <th>2012-2014</th>\n",
       "      <th>2012-2014</th>\n",
       "    </tr>\n",
       "  </thead>\n",
       "  <tbody>\n",
       "    <tr>\n",
       "      <th>count</th>\n",
       "      <td>132</td>\n",
       "      <td>132</td>\n",
       "      <td>132</td>\n",
       "      <td>132</td>\n",
       "    </tr>\n",
       "    <tr>\n",
       "      <th>unique</th>\n",
       "      <td>3</td>\n",
       "      <td>4</td>\n",
       "      <td>4</td>\n",
       "      <td>4</td>\n",
       "    </tr>\n",
       "    <tr>\n",
       "      <th>top</th>\n",
       "      <td>Limited</td>\n",
       "      <td>Larger scale</td>\n",
       "      <td>None</td>\n",
       "      <td>Larger scale</td>\n",
       "    </tr>\n",
       "    <tr>\n",
       "      <th>freq</th>\n",
       "      <td>55</td>\n",
       "      <td>69</td>\n",
       "      <td>57</td>\n",
       "      <td>52</td>\n",
       "    </tr>\n",
       "  </tbody>\n",
       "</table>\n",
       "</div>"
      ],
      "text/plain": [
       "        Child maltreatment: Extent of implementation of home-visiting programmes  \\\n",
       "Country                                                                2012-2014   \n",
       "count                                                  132                         \n",
       "unique                                                   3                         \n",
       "top                                                Limited                         \n",
       "freq                                                    55                         \n",
       "\n",
       "        Youth violence: Extent of implementation of life-skills and social development programmes  \\\n",
       "Country                                                                                 2012-2014   \n",
       "count                                                  132                                          \n",
       "unique                                                   4                                          \n",
       "top                                           Larger scale                                          \n",
       "freq                                                    69                                          \n",
       "\n",
       "        Intimate partner violence: Extent of implementation  of dating violence prevention programmes  \\\n",
       "Country                                                                                     2012-2014   \n",
       "count                                                  132                                              \n",
       "unique                                                   4                                              \n",
       "top                                                   None                                              \n",
       "freq                                                    57                                              \n",
       "\n",
       "        Elder abuse: Extent of implementation  of caregiver-support programmes  \n",
       "Country                                                              2012-2014  \n",
       "count                                                  132                      \n",
       "unique                                                   4                      \n",
       "top                                           Larger scale                      \n",
       "freq                                                    52                      "
      ]
     },
     "execution_count": 11,
     "metadata": {},
     "output_type": "execute_result"
    }
   ],
   "source": [
    "df.describe()"
   ]
  },
  {
   "cell_type": "markdown",
   "metadata": {},
   "source": [
    "#### visualizing extent  of implementation of programmes"
   ]
  },
  {
   "cell_type": "code",
   "execution_count": 12,
   "metadata": {},
   "outputs": [
    {
     "data": {
      "text/plain": [
       "{\"Don't know\", 'Larger scale', 'Limited', 'None'}"
      ]
     },
     "execution_count": 12,
     "metadata": {},
     "output_type": "execute_result"
    }
   ],
   "source": [
    "list_of_unique_values_in_df_columns = [df[i].unique().tolist() for i in df.columns]\n",
    "unique_values_in_df = set(x for l in list_of_unique_values_in_df_columns for x in l)\n",
    "unique_values_in_df"
   ]
  },
  {
   "cell_type": "code",
   "execution_count": 13,
   "metadata": {},
   "outputs": [
    {
     "data": {
      "text/html": [
       "<div>\n",
       "<style scoped>\n",
       "    .dataframe tbody tr th:only-of-type {\n",
       "        vertical-align: middle;\n",
       "    }\n",
       "\n",
       "    .dataframe tbody tr th {\n",
       "        vertical-align: top;\n",
       "    }\n",
       "\n",
       "    .dataframe thead th {\n",
       "        text-align: right;\n",
       "    }\n",
       "</style>\n",
       "<table border=\"1\" class=\"dataframe\">\n",
       "  <thead>\n",
       "    <tr style=\"text-align: right;\">\n",
       "      <th></th>\n",
       "      <th>None</th>\n",
       "      <th>Don't know</th>\n",
       "      <th>Larger scale</th>\n",
       "      <th>Limited</th>\n",
       "    </tr>\n",
       "  </thead>\n",
       "  <tbody>\n",
       "    <tr>\n",
       "      <th>0</th>\n",
       "      <td>0</td>\n",
       "      <td>0</td>\n",
       "      <td>0</td>\n",
       "      <td>0</td>\n",
       "    </tr>\n",
       "    <tr>\n",
       "      <th>1</th>\n",
       "      <td>0</td>\n",
       "      <td>0</td>\n",
       "      <td>0</td>\n",
       "      <td>0</td>\n",
       "    </tr>\n",
       "    <tr>\n",
       "      <th>2</th>\n",
       "      <td>0</td>\n",
       "      <td>0</td>\n",
       "      <td>0</td>\n",
       "      <td>0</td>\n",
       "    </tr>\n",
       "    <tr>\n",
       "      <th>3</th>\n",
       "      <td>0</td>\n",
       "      <td>0</td>\n",
       "      <td>0</td>\n",
       "      <td>0</td>\n",
       "    </tr>\n",
       "  </tbody>\n",
       "</table>\n",
       "</div>"
      ],
      "text/plain": [
       "   None  Don't know  Larger scale  Limited\n",
       "0     0           0             0        0\n",
       "1     0           0             0        0\n",
       "2     0           0             0        0\n",
       "3     0           0             0        0"
      ]
     },
     "execution_count": 13,
     "metadata": {},
     "output_type": "execute_result"
    }
   ],
   "source": [
    "df_plot1 = pd.DataFrame(columns=list(unique_values_in_df), index=range(0,len(df.columns)))\n",
    "df_plot1.replace({np.nan:0}, inplace=True)\n",
    "df_plot1"
   ]
  },
  {
   "cell_type": "code",
   "execution_count": 14,
   "metadata": {},
   "outputs": [],
   "source": [
    "i = 0\n",
    "for col in df.columns:\n",
    "    df_plot1.iloc[i] = [df[col].value_counts()[col_] if col_ in df[col].unique() else 0 for col_ in df_plot1]\n",
    "    i += 1"
   ]
  },
  {
   "cell_type": "code",
   "execution_count": 15,
   "metadata": {},
   "outputs": [
    {
     "data": {
      "text/plain": [
       "<matplotlib.axes._subplots.AxesSubplot at 0x7f0f25e85d90>"
      ]
     },
     "execution_count": 15,
     "metadata": {},
     "output_type": "execute_result"
    },
    {
     "data": {
      "image/png": "[encoded data removed]",
      "text/plain": [
       "<Figure size 1440x720 with 1 Axes>"
      ]
     },
     "metadata": {},
     "output_type": "display_data"
    }
   ],
   "source": [
    "sns.set(rc={'figure.figsize':(20,10)})\n",
    "df_plot1.set_index([pd.Index(list(df.columns.get_level_values(0)))]).T.plot(kind='bar', stacked=True)"
   ]
  },
  {
   "cell_type": "markdown",
   "metadata": {},
   "source": [
    "#### In this notebook we learnt:\n",
    " - how to read a csv file with two header rows\n",
    " - how to access a multi level column in data frame\n",
    " - how to view the count of unique values and most frequent value in each column\n",
    " - how to visualize using a stacked bar plot."
   ]
  }
 ],
 "metadata": {
  "kernelspec": {
   "display_name": "Python 3",
   "language": "python",
   "name": "python3"
  },
  "language_info": {
   "codemirror_mode": {
    "name": "ipython",
    "version": 3
   },
   "file_extension": ".py",
   "mimetype": "text/x-python",
   "name": "python",
   "nbconvert_exporter": "python",
   "pygments_lexer": "ipython3",
   "version": "3.7.4"
  }
 },
 "nbformat": 4,
 "nbformat_minor": 2
}
